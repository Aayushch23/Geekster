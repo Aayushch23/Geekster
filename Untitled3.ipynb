{
  "nbformat": 4,
  "nbformat_minor": 0,
  "metadata": {
    "colab": {
      "provenance": []
    },
    "kernelspec": {
      "name": "python3",
      "display_name": "Python 3"
    },
    "language_info": {
      "name": "python"
    }
  },
  "cells": [
    {
      "cell_type": "code",
      "source": [
        "import os\n",
        "cwd = os.getcwd()\n",
        "print(\"Current working directory:\", cwd)"
      ],
      "metadata": {
        "id": "7uypEnx9ahDb",
        "colab": {
          "base_uri": "https://localhost:8080/"
        },
        "outputId": "00e68186-8600-4a82-920b-1048d53c7cf5"
      },
      "execution_count": 1,
      "outputs": [
        {
          "output_type": "stream",
          "name": "stdout",
          "text": [
            "Current working directory: /content\n"
          ]
        }
      ]
    },
    {
      "cell_type": "code",
      "execution_count": 2,
      "metadata": {
        "colab": {
          "base_uri": "https://localhost:8080/"
        },
        "id": "-6j-fn786qRN",
        "outputId": "d6b7df95-c198-4ff6-b2ec-6467da30ad6e"
      },
      "outputs": [
        {
          "output_type": "stream",
          "name": "stdout",
          "text": [
            "Directory 'new_directory' created\n"
          ]
        }
      ],
      "source": [
        "directory = \"new_directory\"\n",
        "parent_dir = \"/content\"\n",
        "path = os.path.join(parent_dir, directory)\n",
        "\n",
        "os.mkdir(path)\n",
        "print(\"Directory '% s' created\" % directory)"
      ]
    },
    {
      "cell_type": "code",
      "source": [
        "print(\"Current working directory contents:\")\n",
        "for item in os.listdir('.'):\n",
        "    print(item)"
      ],
      "metadata": {
        "colab": {
          "base_uri": "https://localhost:8080/"
        },
        "id": "TZ8DzBX47VLI",
        "outputId": "212467ac-0105-4f3b-b365-b0a832292ce8"
      },
      "execution_count": 3,
      "outputs": [
        {
          "output_type": "stream",
          "name": "stdout",
          "text": [
            "Current working directory contents:\n",
            ".config\n",
            "new_directory\n",
            "sample_data\n"
          ]
        }
      ]
    },
    {
      "cell_type": "code",
      "source": [
        "new_file_path = os.path.join(directory, 'file.txt')\n",
        "with open(new_file_path, 'w') as file:\n",
        "    file.write(\"Hii my name Aayush Choudhary!! I am very sharp in statistics . I wanna create AI's and automations\")\n",
        "print(f\"File '{new_file_path}' created and content written.\")"
      ],
      "metadata": {
        "colab": {
          "base_uri": "https://localhost:8080/"
        },
        "id": "JZvzmQouthcy",
        "outputId": "80290d04-5669-4b59-d18f-f6fbbc35ece6"
      },
      "execution_count": 4,
      "outputs": [
        {
          "output_type": "stream",
          "name": "stdout",
          "text": [
            "File 'new_directory/file.txt' created and content written.\n"
          ]
        }
      ]
    },
    {
      "cell_type": "code",
      "source": [
        "with open(new_file_path, 'r') as file:\n",
        "    content = file.read()\n",
        "print(f\"Content of '{new_file_path}':\\n{content}\")"
      ],
      "metadata": {
        "colab": {
          "base_uri": "https://localhost:8080/"
        },
        "id": "E_SIReUCuD6z",
        "outputId": "4b71ec93-8273-49a1-f7df-2b840978f6dc"
      },
      "execution_count": 5,
      "outputs": [
        {
          "output_type": "stream",
          "name": "stdout",
          "text": [
            "Content of 'new_directory/file.txt':\n",
            "Hii my name Aayush Choudhary!! I am very sharp in statistics . I wanna create AI's and automations\n"
          ]
        }
      ]
    },
    {
      "cell_type": "code",
      "source": [
        "renamed_file_path = os.path.join(directory, 'renamed_file.txt')\n",
        "os.rename(new_file_path, renamed_file_path)\n",
        "print(f\"File renamed to '{renamed_file_path}'.\")"
      ],
      "metadata": {
        "colab": {
          "base_uri": "https://localhost:8080/"
        },
        "id": "BMIvJ20suMEr",
        "outputId": "f1c37636-a0d5-418c-e0d1-a35a1a090436"
      },
      "execution_count": 6,
      "outputs": [
        {
          "output_type": "stream",
          "name": "stdout",
          "text": [
            "File renamed to 'new_directory/renamed_file.txt'.\n"
          ]
        }
      ]
    },
    {
      "cell_type": "code",
      "source": [
        "print(\"Current working directory contents:\")\n",
        "for item in os.listdir('.'):\n",
        "    print(item)"
      ],
      "metadata": {
        "colab": {
          "base_uri": "https://localhost:8080/"
        },
        "id": "K9Iy79kfuW7J",
        "outputId": "c4d47a2b-9d82-43e2-a93f-05b7b937666c"
      },
      "execution_count": 7,
      "outputs": [
        {
          "output_type": "stream",
          "name": "stdout",
          "text": [
            "Current working directory contents:\n",
            ".config\n",
            "new_directory\n",
            "sample_data\n"
          ]
        }
      ]
    },
    {
      "cell_type": "code",
      "source": [
        "print(\"Current working directory contents:\")\n",
        "for item in os.listdir(directory):\n",
        "    print(item)"
      ],
      "metadata": {
        "colab": {
          "base_uri": "https://localhost:8080/"
        },
        "id": "XrDQRS_hudk7",
        "outputId": "367dfcff-0a33-4b69-ef58-0246de90a657"
      },
      "execution_count": 8,
      "outputs": [
        {
          "output_type": "stream",
          "name": "stdout",
          "text": [
            "Current working directory contents:\n",
            "renamed_file.txt\n"
          ]
        }
      ]
    },
    {
      "cell_type": "code",
      "source": [
        "cwd = os.getcwd()\n",
        "print(\"Current working directory:\", cwd)"
      ],
      "metadata": {
        "colab": {
          "base_uri": "https://localhost:8080/"
        },
        "id": "U14FNgw6uqyA",
        "outputId": "f380d69e-2e5c-466e-9b54-04e692b1f382"
      },
      "execution_count": 12,
      "outputs": [
        {
          "output_type": "stream",
          "name": "stdout",
          "text": [
            "Current working directory: /content\n"
          ]
        }
      ]
    },
    {
      "cell_type": "code",
      "source": [
        "print(\"Current working directory contents:\")\n",
        "for item in os.listdir('.'):\n",
        "    print(item)"
      ],
      "metadata": {
        "colab": {
          "base_uri": "https://localhost:8080/"
        },
        "id": "DQsQnC_SvSAH",
        "outputId": "8340cbf7-1972-4316-e11b-8bc572ed34a4"
      },
      "execution_count": 13,
      "outputs": [
        {
          "output_type": "stream",
          "name": "stdout",
          "text": [
            "Current working directory contents:\n",
            ".config\n",
            "new_directory\n",
            "sample_data\n"
          ]
        }
      ]
    },
    {
      "cell_type": "code",
      "source": [
        "\n",
        "os.rmdir(directory)\n",
        "print(f\"Directory '{directory}' and its contents deleted.\")"
      ],
      "metadata": {
        "colab": {
          "base_uri": "https://localhost:8080/"
        },
        "id": "X8emDygzvTrH",
        "outputId": "81b0d1c7-bdc2-48ae-83cb-a87093ec082c"
      },
      "execution_count": 16,
      "outputs": [
        {
          "output_type": "stream",
          "name": "stdout",
          "text": [
            "Directory 'new_directory' and its contents deleted.\n"
          ]
        }
      ]
    }
  ]
}